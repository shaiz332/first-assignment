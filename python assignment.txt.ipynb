{
 "cells": [
  {
   "cell_type": "markdown",
   "metadata": {},
   "source": [
    "1)  A company decided to give bonus of 5% to employee if his/her year of service is more than 5 years.\n",
    "  Ask user for their salary and year of service and print the net bonus amount."
   ]
  },
  {
   "cell_type": "code",
   "execution_count": 55,
   "metadata": {},
   "outputs": [
    {
     "name": "stdin",
     "output_type": "stream",
     "text": [
      "enter your salary 67\n",
      "enter your year of service 78\n"
     ]
    },
    {
     "name": "stdout",
     "output_type": "stream",
     "text": [
      "3.35\n"
     ]
    }
   ],
   "source": [
    "salary=int(input(\"enter your salary\"))\n",
    "service=int(input(\"enter your year of service\"))\n",
    "bonus=salary*0.05\n",
    "if service>5:\n",
    "    print(bonus)\n",
    "else:\n",
    "    print(salary)\n"
   ]
  },
  {
   "cell_type": "markdown",
   "metadata": {},
   "source": [
    "\n",
    "2) Write a program to check whether a person is eligible for voting or not. (accept age from user) if age is greater than 17 eligible otherwise not eligible"
   ]
  },
  {
   "cell_type": "code",
   "execution_count": 17,
   "metadata": {},
   "outputs": [
    {
     "name": "stdin",
     "output_type": "stream",
     "text": [
      "enter your age 17\n"
     ]
    },
    {
     "name": "stdout",
     "output_type": "stream",
     "text": [
      "you are not eligible for voting\n"
     ]
    }
   ],
   "source": [
    "age = int(input(\"enter your age\"))\n",
    "if age>17:\n",
    "    print(\"you are eligible for voting\")\n",
    "else:\n",
    "    print(\"you are not eligible for voting\")\n",
    "    "
   ]
  },
  {
   "cell_type": "markdown",
   "metadata": {},
   "source": [
    "\n",
    "3) Write a program to check whether a number entered by user is even or odd. "
   ]
  },
  {
   "cell_type": "code",
   "execution_count": 16,
   "metadata": {},
   "outputs": [
    {
     "name": "stdin",
     "output_type": "stream",
     "text": [
      "enter a number 45\n"
     ]
    },
    {
     "name": "stdout",
     "output_type": "stream",
     "text": [
      "number is odd\n"
     ]
    }
   ],
   "source": [
    "n=int(input(\"enter a number\"))\n",
    "if n%2==0:\n",
    "             print(\"number is even\")\n",
    "else:\n",
    "             print(\"number is odd\")\n"
   ]
  },
  {
   "cell_type": "markdown",
   "metadata": {},
   "source": [
    "4) Write a program to check whether a number is divisible by 7 or not.\n",
    "Show Answer"
   ]
  },
  {
   "cell_type": "code",
   "execution_count": 58,
   "metadata": {},
   "outputs": [
    {
     "name": "stdin",
     "output_type": "stream",
     "text": [
      "enter a number 56\n"
     ]
    },
    {
     "name": "stdout",
     "output_type": "stream",
     "text": [
      "number is divisible by 7\n"
     ]
    }
   ],
   "source": [
    "n=int(input(\"enter a number\"))\n",
    "if n%7==0:\n",
    "    print(\"number is divisible by 7\")\n",
    "else:\n",
    "    print(\"number is not divisible by 7\")"
   ]
  },
  {
   "cell_type": "raw",
   "metadata": {},
   "source": [
    "5) write a program to display \n",
    "\"Hello\" if a number entered by user is a multiple of five , otherwise print \"Bye\"."
   ]
  },
  {
   "cell_type": "code",
   "execution_count": 59,
   "metadata": {},
   "outputs": [
    {
     "name": "stdin",
     "output_type": "stream",
     "text": [
      "enter a number 4\n"
     ]
    },
    {
     "name": "stdout",
     "output_type": "stream",
     "text": [
      "bye\n"
     ]
    }
   ],
   "source": [
    "n=int(input(\"enter a number\"))\n",
    "if n%5==0:\n",
    "      print(\"hello\")\n",
    "else:\n",
    "      print(\"bye\")"
   ]
  },
  {
   "cell_type": "raw",
   "metadata": {},
   "source": [
    "7) Write a program to display the last digit of a number.\n"
   ]
  },
  {
   "cell_type": "code",
   "execution_count": 60,
   "metadata": {},
   "outputs": [
    {
     "name": "stdin",
     "output_type": "stream",
     "text": [
      "enter a number 45\n"
     ]
    },
    {
     "name": "stdout",
     "output_type": "stream",
     "text": [
      "5\n"
     ]
    }
   ],
   "source": [
    "n=int(input(\"enter a number\"))\n",
    "last_digit=n%10\n",
    "print(last_digit)\n"
   ]
  },
  {
   "cell_type": "raw",
   "metadata": {},
   "source": [
    "Q8. Write a program to check whether the last digit of a number( entered by user ) is \n",
    "divisible by 3 or not."
   ]
  },
  {
   "cell_type": "code",
   "execution_count": 61,
   "metadata": {},
   "outputs": [
    {
     "name": "stdin",
     "output_type": "stream",
     "text": [
      "enter a value 56\n"
     ]
    },
    {
     "name": "stdout",
     "output_type": "stream",
     "text": [
      "value is divisible by 3\n"
     ]
    }
   ],
   "source": [
    "number=int(input(\"enter a value\"))\n",
    "last_digit=number%10\n",
    "if last_digit%3==0:\n",
    "    print(\"value is divisible by 3\")\n",
    "else:\n",
    "    print(\"value is not divisible by 3\")"
   ]
  },
  {
   "cell_type": "markdown",
   "metadata": {},
   "source": [
    " 9) Take values of length and breadth of a rectangle from user and print if it is square or rectangle."
   ]
  },
  {
   "cell_type": "code",
   "execution_count": 62,
   "metadata": {},
   "outputs": [
    {
     "name": "stdin",
     "output_type": "stream",
     "text": [
      "enter the length 45\n",
      "enter the breadth 56\n"
     ]
    },
    {
     "name": "stdout",
     "output_type": "stream",
     "text": [
      "rectangle\n"
     ]
    }
   ],
   "source": [
    "length=int(input(\"enter the length\"))\n",
    "breadth=int(input(\"enter the breadth\"))\n",
    "if length==breadth:\n",
    "     print(\"square\")\n",
    "else:\n",
    "       print(\"rectangle\")"
   ]
  },
  {
   "cell_type": "markdown",
   "metadata": {},
   "source": [
    " 10) Take two int values from user and print greatest among them."
   ]
  },
  {
   "cell_type": "code",
   "execution_count": 15,
   "metadata": {},
   "outputs": [
    {
     "name": "stdin",
     "output_type": "stream",
     "text": [
      "enter first value 98\n",
      "enter second value 78\n"
     ]
    },
    {
     "name": "stdout",
     "output_type": "stream",
     "text": [
      "98 is greatest\n"
     ]
    }
   ],
   "source": [
    "f_value=int(input(\"enter first value\"))\n",
    "l_value=int(input(\"enter second value\"))\n",
    "if f_value>l_value:\n",
    "    print(f_value, \"is greatest value\")\n",
    "elif f_value<l_value:\n",
    "    print(l_value, \"is greatest value\")"
   ]
  },
  {
   "cell_type": "raw",
   "metadata": {},
   "source": [
    "11) A shop will give discount of 10% if the cost of purchased quantity is more than 1000.\n",
    "Ask user for quantity\n",
    "Suppose, one unit will cost 100.\n",
    "Judge and print total cost for user."
   ]
  },
  {
   "cell_type": "code",
   "execution_count": 14,
   "metadata": {},
   "outputs": [
    {
     "name": "stdin",
     "output_type": "stream",
     "text": [
      "enter quantity 23\n"
     ]
    },
    {
     "name": "stdout",
     "output_type": "stream",
     "text": [
      "230.0\n"
     ]
    }
   ],
   "source": [
    "quantity=int(input(\"enter quantity\"))\n",
    "product_price=100\n",
    "discount=product_price*quantity*0.1\n",
    "if quantity>=10:\n",
    "    print(discount)\n",
    "else:\n",
    "    print(\"no discount\")"
   ]
  },
  {
   "cell_type": "raw",
   "metadata": {},
   "source": [
    "12) A school has following rules for grading system:\n",
    "\n",
    "a. Below 25 - F\n",
    "\n",
    "b. 25 to 45 - E\n",
    "\n",
    "c. 45 to 50 - D\n",
    "\n",
    "d. 50 to 60 - C\n",
    "\n",
    "e. 60 to 80 - B\n",
    "\n",
    "f. Above 80 - A\n",
    "\n",
    "Ask user to enter marks and print the corresponding grade."
   ]
  },
  {
   "cell_type": "code",
   "execution_count": 13,
   "metadata": {},
   "outputs": [
    {
     "name": "stdin",
     "output_type": "stream",
     "text": [
      "enter your total marks 70\n"
     ]
    },
    {
     "name": "stdout",
     "output_type": "stream",
     "text": [
      "B grade\n"
     ]
    }
   ],
   "source": [
    "marks=int(input(\"enter your total marks\"))\n",
    "if marks<25:\n",
    "    print(\"failed(F)\")\n",
    "if 25<=marks<=45:\n",
    "    print(\"E grade\")\n",
    "elif 45<marks<=50:\n",
    "    print(\"D grade\")\n",
    "elif 50<marks<=60:\n",
    "    print(\"C grade\")\n",
    "elif 60<marks<=80:\n",
    "    print(\"B grade\")\n",
    "elif marks>80:\n",
    "    print(\"you got A1 grade\")\n"
   ]
  },
  {
   "cell_type": "raw",
   "metadata": {},
   "source": [
    "\n",
    "14)A student will not be allowed to sit in exam if his/her attendence is less than 75%.\n",
    "\n",
    "Take following input from user\n",
    "\n",
    "Number of classes held\n",
    "\n",
    "Number of classes attended.\n",
    "\n",
    "And print\n",
    "\n",
    "percentage of class attended\n",
    "\n",
    "Is student is allowed to sit in exam or not.\n"
   ]
  },
  {
   "cell_type": "code",
   "execution_count": 66,
   "metadata": {},
   "outputs": [
    {
     "name": "stdin",
     "output_type": "stream",
     "text": [
      "number_of_classes_held 500\n",
      "number_of_classes_attended 460\n"
     ]
    },
    {
     "name": "stdout",
     "output_type": "stream",
     "text": [
      "92.0\n",
      "congratulation you are allowed to sit in exam\n"
     ]
    }
   ],
   "source": [
    "classes_held=int(input(\"number_of_classes_held\"))\n",
    "classes_attended=int(input(\"number_of_classes_attended\"))\n",
    "percentage_of_class_attended=classes_attended/classes_held*100\n",
    "print(percentage_of_class_attended)\n",
    "if percentage_of_class_attended>=75:\n",
    "    print(\"congratulation you are allowed to sit in exam\")\n",
    "else:\n",
    "    print(\"you are not allowed to sit in exam\")"
   ]
  },
  {
   "cell_type": "raw",
   "metadata": {},
   "source": [
    "15) Modify the above question to allow student to sit if he/she has medical cause. Ask user if he/she has medical cause or not ( 'Y' or 'N' ) and print accordingly."
   ]
  },
  {
   "cell_type": "code",
   "execution_count": 12,
   "metadata": {},
   "outputs": [
    {
     "name": "stdin",
     "output_type": "stream",
     "text": [
      "number_of_classes_held 300\n",
      "number_of_classes_attended 150\n",
      "do_you_have_any_medical_cause?(YES or NO): YES\n"
     ]
    },
    {
     "name": "stdout",
     "output_type": "stream",
     "text": [
      "50.0\n",
      "congratulation you are allowed to sit in exam\n"
     ]
    }
   ],
   "source": [
    "classes_held=int(input(\"number_of_classes_held\"))\n",
    "classes_attended=int(input(\"number_of_classes_attended\"))\n",
    "any_medical_cause=(input(\"do_you_have_any_medical_cause?(YES or NO):\"))\n",
    "percentage_of_class_attended=(classes_attended/classes_held)*100\n",
    "print(percentage_of_class_attended)\n",
    "if percentage_of_class_attended>=75 and any_medical_cause==\"YES\":\n",
    "    print(\"congratulation you are allowed to sit in exam\")\n",
    "elif percentage_of_class_attended>=75 and any_medical_cause==\"NO\":\n",
    "    print(\"congratulation you are allowed to sit in exam\")\n",
    "elif percentage_of_class_attended<75 and any_medical_cause==\"YES\":\n",
    "    print(\"congratulation you are allowed to sit in exam\")\n",
    "elif percentage_of_class_attended<75 and any_medical_cause==\"NO\":\n",
    "    print(\"you are not allowed to sit in exam\")\n",
    "else:\n",
    "    print(\"congratulation you are allowed to sit in exam\")"
   ]
  },
  {
   "cell_type": "raw",
   "metadata": {},
   "source": [
    "16) Write a program to check if a year is leap year or not.\n",
    "\n",
    "If a year is divisible by 4 then it is leap year but if the year is century year like 2000, 1900, 2100 then it must be divisible by 400."
   ]
  },
  {
   "cell_type": "code",
   "execution_count": 11,
   "metadata": {},
   "outputs": [
    {
     "name": "stdin",
     "output_type": "stream",
     "text": [
      "enter a year 2028\n"
     ]
    },
    {
     "name": "stdout",
     "output_type": "stream",
     "text": [
      "year is a leap year\n"
     ]
    }
   ],
   "source": [
    "year=int(input(\"enter a year\"))\n",
    "if year%4==0 and year%100!=0 or year%400==0:\n",
    "         print(\"year is a leap year\")\n",
    "else:\n",
    "    print(\"year is not a leap year\")"
   ]
  },
  {
   "cell_type": "raw",
   "metadata": {},
   "source": [
    "17) Ask user to enter age, gender ( M or F ), marital status ( Y or N ) and then using following rules print their place of service.\n",
    "\n",
    "if employee is female, then she will work only in urban areas.\n",
    "\n",
    "if employee is a male and age is in between 20 to 40 then he may work in anywhere\n",
    "\n",
    "if employee is male and age is in between 40 t0 60 then he will work in urban areas only.\n",
    "\n",
    "And any other input of age should print \"ERROR\""
   ]
  },
  {
   "cell_type": "code",
   "execution_count": 8,
   "metadata": {},
   "outputs": [
    {
     "name": "stdin",
     "output_type": "stream",
     "text": [
      "enter your age 45\n",
      "enter your gender (female or male): male\n",
      "enter your marital status (yes or no): yes\n"
     ]
    },
    {
     "name": "stdout",
     "output_type": "stream",
     "text": [
      "he will work in urban areas only\n"
     ]
    }
   ],
   "source": [
    "age=int(input(\"enter your age\"))\n",
    "gender=input(\"enter your gender (female or male):\")\n",
    "marital_status = input(\"enter your marital status (yes or no):\")\n",
    "if gender==\"female\":\n",
    "     print(\"she will only work in urban areas\")\n",
    "elif gender==\"male\" and 20<=age<=40:\n",
    "          print(\"he may work in anywhere\")\n",
    "elif gender==\"male\" and 40<=age<=60:\n",
    "          print(\"he will work in urban areas only\")\n",
    "else:\n",
    "  print(\"error\")\n",
    "     "
   ]
  },
  {
   "cell_type": "markdown",
   "metadata": {},
   "source": [
    " "
   ]
  },
  {
   "cell_type": "raw",
   "metadata": {},
   "source": [
    "6) Write a program to calculate the electricity bill (accept number of unit from user) according to the following criteria :\n",
    "     Unit                                                     Price  \n",
    "uptp 100 units                                             no charge\n",
    "Next 200 units                                              Rs 5 per unit\n",
    "After 200 units                                             Rs 10 per unit\n",
    "(For example if input unit is 350 than total bill amount is Rs.3500\n",
    "(For example if input unit is 97 than total bill amount is Rs.0\n",
    "(For example if input unit is 150 than total bill amount is Rs.750"
   ]
  },
  {
   "cell_type": "code",
   "execution_count": 7,
   "metadata": {},
   "outputs": [
    {
     "name": "stdin",
     "output_type": "stream",
     "text": [
      "enter number of units 450\n"
     ]
    },
    {
     "name": "stdout",
     "output_type": "stream",
     "text": [
      "total bill amount isRs: 4500\n"
     ]
    }
   ],
   "source": [
    "number_of_units=int(input(\"enter number of units\"))\n",
    "if number_of_units<100:\n",
    "    print(\"total bill amount is Rs:0\")\n",
    "elif number_of_units<=200:\n",
    "    print(\"total bill amount is Rs:\",(number_of_units*5))\n",
    "elif number_of_units>200:\n",
    "    print(\"total bill amount isRs:\",(number_of_units*10))"
   ]
  },
  {
   "cell_type": "raw",
   "metadata": {},
   "source": [
    "13) Take input of age of 3 people by user and determine oldest and youngest among them."
   ]
  },
  {
   "cell_type": "code",
   "execution_count": 6,
   "metadata": {},
   "outputs": [
    {
     "name": "stdin",
     "output_type": "stream",
     "text": [
      "enter 1st age 45\n",
      "enter 2nd age 78\n",
      "enter 3rd age 13\n"
     ]
    },
    {
     "name": "stdout",
     "output_type": "stream",
     "text": [
      "78 is oldest age and 45 is youngest age\n"
     ]
    }
   ],
   "source": [
    "first_age=int(input(\"enter 1st age\"))\n",
    "second_age=int(input(\"enter 2nd age\"))\n",
    "third_age=int(input(\"enter 3rd age\"))\n",
    "if first_age>second_age>third_age:\n",
    "    print(f\"{first_age} is oldest age and {third_age} is youngest age\")\n",
    "elif first_age<second_age>third_age:\n",
    "    print(f\"{second_age} is oldest age and {first_age} is youngest age\")\n",
    "elif first_age>second_age<third_age:\n",
    "    print(f\"{first_age} is oldest age and {third_age} is youngest age\")\n",
    "elif first_age<second_age<third_age:\n",
    "    print(f\"{third_age} is oldest age and {first_age} is youngest age\")\n"
   ]
  },
  {
   "cell_type": "code",
   "execution_count": null,
   "metadata": {},
   "outputs": [],
   "source": []
  }
 ],
 "metadata": {
  "kernelspec": {
   "display_name": "Python 3 (ipykernel)",
   "language": "python",
   "name": "python3"
  },
  "language_info": {
   "codemirror_mode": {
    "name": "ipython",
    "version": 3
   },
   "file_extension": ".py",
   "mimetype": "text/x-python",
   "name": "python",
   "nbconvert_exporter": "python",
   "pygments_lexer": "ipython3",
   "version": "3.11.5"
  }
 },
 "nbformat": 4,
 "nbformat_minor": 4
}
